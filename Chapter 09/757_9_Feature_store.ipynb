{
 "cells": [
  {
   "cell_type": "code",
   "execution_count": 3,
   "id": "46997284-aaa0-44f4-b6bc-82d24308b0ba",
   "metadata": {
    "collapsed": true,
    "jupyter": {
     "outputs_hidden": true
    },
    "tags": []
   },
   "outputs": [
    {
     "name": "stdout",
     "output_type": "stream",
     "text": [
      "Collecting google-cloud-aiplatform\n",
      "  Using cached google_cloud_aiplatform-1.20.0-py2.py3-none-any.whl (2.3 MB)\n",
      "Requirement already satisfied: google-cloud-resource-manager<3.0.0dev,>=1.3.3 in ./.local/lib/python3.7/site-packages (from google-cloud-aiplatform) (1.7.0)\n",
      "Requirement already satisfied: proto-plus<2.0.0dev,>=1.22.0 in /opt/conda/lib/python3.7/site-packages (from google-cloud-aiplatform) (1.22.1)\n",
      "Requirement already satisfied: google-api-core[grpc]!=2.0.*,!=2.1.*,!=2.2.*,!=2.3.*,!=2.4.*,!=2.5.*,!=2.6.*,!=2.7.*,<3.0.0dev,>=1.32.0 in /opt/conda/lib/python3.7/site-packages (from google-cloud-aiplatform) (1.34.0)\n",
      "Requirement already satisfied: packaging<22.0.0dev,>=14.3 in ./.local/lib/python3.7/site-packages (from google-cloud-aiplatform) (21.3)\n",
      "Requirement already satisfied: protobuf!=3.20.0,!=3.20.1,!=4.21.0,!=4.21.1,!=4.21.2,!=4.21.3,!=4.21.4,!=4.21.5,<5.0.0dev,>=3.19.5 in /opt/conda/lib/python3.7/site-packages (from google-cloud-aiplatform) (3.19.6)\n",
      "Requirement already satisfied: google-cloud-storage<3.0.0dev,>=1.32.0 in /opt/conda/lib/python3.7/site-packages (from google-cloud-aiplatform) (2.7.0)\n",
      "Requirement already satisfied: google-cloud-bigquery<3.0.0dev,>=1.15.0 in ./.local/lib/python3.7/site-packages (from google-cloud-aiplatform) (2.34.4)\n",
      "Requirement already satisfied: google-auth<3.0dev,>=1.25.0 in /opt/conda/lib/python3.7/site-packages (from google-api-core[grpc]!=2.0.*,!=2.1.*,!=2.2.*,!=2.3.*,!=2.4.*,!=2.5.*,!=2.6.*,!=2.7.*,<3.0.0dev,>=1.32.0->google-cloud-aiplatform) (2.15.0)\n",
      "Requirement already satisfied: requests<3.0.0dev,>=2.18.0 in /opt/conda/lib/python3.7/site-packages (from google-api-core[grpc]!=2.0.*,!=2.1.*,!=2.2.*,!=2.3.*,!=2.4.*,!=2.5.*,!=2.6.*,!=2.7.*,<3.0.0dev,>=1.32.0->google-cloud-aiplatform) (2.28.1)\n",
      "Requirement already satisfied: googleapis-common-protos<2.0dev,>=1.56.2 in /opt/conda/lib/python3.7/site-packages (from google-api-core[grpc]!=2.0.*,!=2.1.*,!=2.2.*,!=2.3.*,!=2.4.*,!=2.5.*,!=2.6.*,!=2.7.*,<3.0.0dev,>=1.32.0->google-cloud-aiplatform) (1.57.0)\n",
      "Requirement already satisfied: grpcio-status<2.0dev,>=1.33.2 in /opt/conda/lib/python3.7/site-packages (from google-api-core[grpc]!=2.0.*,!=2.1.*,!=2.2.*,!=2.3.*,!=2.4.*,!=2.5.*,!=2.6.*,!=2.7.*,<3.0.0dev,>=1.32.0->google-cloud-aiplatform) (1.48.2)\n",
      "Requirement already satisfied: grpcio<2.0dev,>=1.33.2 in /opt/conda/lib/python3.7/site-packages (from google-api-core[grpc]!=2.0.*,!=2.1.*,!=2.2.*,!=2.3.*,!=2.4.*,!=2.5.*,!=2.6.*,!=2.7.*,<3.0.0dev,>=1.32.0->google-cloud-aiplatform) (1.51.1)\n",
      "Requirement already satisfied: python-dateutil<3.0dev,>=2.7.2 in /opt/conda/lib/python3.7/site-packages (from google-cloud-bigquery<3.0.0dev,>=1.15.0->google-cloud-aiplatform) (2.8.2)\n",
      "Requirement already satisfied: google-resumable-media<3.0dev,>=0.6.0 in /opt/conda/lib/python3.7/site-packages (from google-cloud-bigquery<3.0.0dev,>=1.15.0->google-cloud-aiplatform) (2.4.0)\n",
      "Requirement already satisfied: google-cloud-core<3.0.0dev,>=1.4.1 in /opt/conda/lib/python3.7/site-packages (from google-cloud-bigquery<3.0.0dev,>=1.15.0->google-cloud-aiplatform) (2.3.2)\n",
      "Requirement already satisfied: grpc-google-iam-v1<1.0.0dev,>=0.12.4 in ./.local/lib/python3.7/site-packages (from google-cloud-resource-manager<3.0.0dev,>=1.3.3->google-cloud-aiplatform) (0.12.4)\n",
      "Requirement already satisfied: pyparsing!=3.0.5,>=2.0.2 in /opt/conda/lib/python3.7/site-packages (from packaging<22.0.0dev,>=14.3->google-cloud-aiplatform) (3.0.9)\n",
      "Requirement already satisfied: six>=1.9.0 in /opt/conda/lib/python3.7/site-packages (from google-auth<3.0dev,>=1.25.0->google-api-core[grpc]!=2.0.*,!=2.1.*,!=2.2.*,!=2.3.*,!=2.4.*,!=2.5.*,!=2.6.*,!=2.7.*,<3.0.0dev,>=1.32.0->google-cloud-aiplatform) (1.16.0)\n",
      "Requirement already satisfied: pyasn1-modules>=0.2.1 in /opt/conda/lib/python3.7/site-packages (from google-auth<3.0dev,>=1.25.0->google-api-core[grpc]!=2.0.*,!=2.1.*,!=2.2.*,!=2.3.*,!=2.4.*,!=2.5.*,!=2.6.*,!=2.7.*,<3.0.0dev,>=1.32.0->google-cloud-aiplatform) (0.2.8)\n",
      "Requirement already satisfied: cachetools<6.0,>=2.0.0 in /opt/conda/lib/python3.7/site-packages (from google-auth<3.0dev,>=1.25.0->google-api-core[grpc]!=2.0.*,!=2.1.*,!=2.2.*,!=2.3.*,!=2.4.*,!=2.5.*,!=2.6.*,!=2.7.*,<3.0.0dev,>=1.32.0->google-cloud-aiplatform) (5.2.0)\n",
      "Requirement already satisfied: rsa<5,>=3.1.4 in /opt/conda/lib/python3.7/site-packages (from google-auth<3.0dev,>=1.25.0->google-api-core[grpc]!=2.0.*,!=2.1.*,!=2.2.*,!=2.3.*,!=2.4.*,!=2.5.*,!=2.6.*,!=2.7.*,<3.0.0dev,>=1.32.0->google-cloud-aiplatform) (4.9)\n",
      "Requirement already satisfied: google-crc32c<2.0dev,>=1.0 in /opt/conda/lib/python3.7/site-packages (from google-resumable-media<3.0dev,>=0.6.0->google-cloud-bigquery<3.0.0dev,>=1.15.0->google-cloud-aiplatform) (1.5.0)\n",
      "Requirement already satisfied: idna<4,>=2.5 in /opt/conda/lib/python3.7/site-packages (from requests<3.0.0dev,>=2.18.0->google-api-core[grpc]!=2.0.*,!=2.1.*,!=2.2.*,!=2.3.*,!=2.4.*,!=2.5.*,!=2.6.*,!=2.7.*,<3.0.0dev,>=1.32.0->google-cloud-aiplatform) (3.4)\n",
      "Requirement already satisfied: charset-normalizer<3,>=2 in /opt/conda/lib/python3.7/site-packages (from requests<3.0.0dev,>=2.18.0->google-api-core[grpc]!=2.0.*,!=2.1.*,!=2.2.*,!=2.3.*,!=2.4.*,!=2.5.*,!=2.6.*,!=2.7.*,<3.0.0dev,>=1.32.0->google-cloud-aiplatform) (2.1.1)\n",
      "Requirement already satisfied: certifi>=2017.4.17 in /opt/conda/lib/python3.7/site-packages (from requests<3.0.0dev,>=2.18.0->google-api-core[grpc]!=2.0.*,!=2.1.*,!=2.2.*,!=2.3.*,!=2.4.*,!=2.5.*,!=2.6.*,!=2.7.*,<3.0.0dev,>=1.32.0->google-cloud-aiplatform) (2022.12.7)\n",
      "Requirement already satisfied: urllib3<1.27,>=1.21.1 in /opt/conda/lib/python3.7/site-packages (from requests<3.0.0dev,>=2.18.0->google-api-core[grpc]!=2.0.*,!=2.1.*,!=2.2.*,!=2.3.*,!=2.4.*,!=2.5.*,!=2.6.*,!=2.7.*,<3.0.0dev,>=1.32.0->google-cloud-aiplatform) (1.26.13)\n",
      "Requirement already satisfied: pyasn1<0.5.0,>=0.4.6 in /opt/conda/lib/python3.7/site-packages (from pyasn1-modules>=0.2.1->google-auth<3.0dev,>=1.25.0->google-api-core[grpc]!=2.0.*,!=2.1.*,!=2.2.*,!=2.3.*,!=2.4.*,!=2.5.*,!=2.6.*,!=2.7.*,<3.0.0dev,>=1.32.0->google-cloud-aiplatform) (0.4.8)\n",
      "Installing collected packages: google-cloud-aiplatform\n",
      "\u001b[33m  WARNING: The script tb-gcp-uploader is installed in '/home/jupyter/.local/bin' which is not on PATH.\n",
      "  Consider adding this directory to PATH or, if you prefer to suppress this warning, use --no-warn-script-location.\u001b[0m\u001b[33m\n",
      "\u001b[0mSuccessfully installed google-cloud-aiplatform-1.20.0\n"
     ]
    }
   ],
   "source": [
    "USER=\"--user\"\n",
    "!pip install {USER} google-cloud-aiplatform"
   ]
  },
  {
   "cell_type": "code",
   "execution_count": 2,
   "id": "27d3bca0-7bab-4e46-b0b4-3ccfd901d9fd",
   "metadata": {},
   "outputs": [
    {
     "ename": "ModuleNotFoundError",
     "evalue": "No module named 'google.cloud.aiplatform_v1'",
     "output_type": "error",
     "traceback": [
      "\u001b[0;31m---------------------------------------------------------------------------\u001b[0m",
      "\u001b[0;31mModuleNotFoundError\u001b[0m                       Traceback (most recent call last)",
      "\u001b[0;32m/tmp/ipykernel_26094/1253488646.py\u001b[0m in \u001b[0;36m<module>\u001b[0;34m\u001b[0m\n\u001b[1;32m      1\u001b[0m \u001b[0;31m#from google.cloud.aiplatform_v1 import (FeaturestoreOnlineServingServiceClient,FeaturestoreServiceClient)\u001b[0m\u001b[0;34m\u001b[0m\u001b[0;34m\u001b[0m\u001b[0;34m\u001b[0m\u001b[0m\n\u001b[0;32m----> 2\u001b[0;31m \u001b[0;32mfrom\u001b[0m \u001b[0mgoogle\u001b[0m\u001b[0;34m.\u001b[0m\u001b[0mcloud\u001b[0m\u001b[0;34m.\u001b[0m\u001b[0maiplatform_v1\u001b[0m\u001b[0;34m.\u001b[0m\u001b[0mtypes\u001b[0m \u001b[0;32mimport\u001b[0m \u001b[0mFeatureSelector\u001b[0m\u001b[0;34m,\u001b[0m \u001b[0mIdMatcher\u001b[0m\u001b[0;34m\u001b[0m\u001b[0;34m\u001b[0m\u001b[0m\n\u001b[0m\u001b[1;32m      3\u001b[0m \u001b[0;32mfrom\u001b[0m \u001b[0mgoogle\u001b[0m\u001b[0;34m.\u001b[0m\u001b[0mcloud\u001b[0m\u001b[0;34m.\u001b[0m\u001b[0maiplatform_v1\u001b[0m\u001b[0;34m.\u001b[0m\u001b[0mtypes\u001b[0m \u001b[0;32mimport\u001b[0m \u001b[0mentity_type\u001b[0m \u001b[0;32mas\u001b[0m \u001b[0mentity_type_pb2\u001b[0m\u001b[0;34m\u001b[0m\u001b[0;34m\u001b[0m\u001b[0m\n\u001b[1;32m      4\u001b[0m \u001b[0;32mfrom\u001b[0m \u001b[0mgoogle\u001b[0m\u001b[0;34m.\u001b[0m\u001b[0mcloud\u001b[0m\u001b[0;34m.\u001b[0m\u001b[0maiplatform_v1\u001b[0m\u001b[0;34m.\u001b[0m\u001b[0mtypes\u001b[0m \u001b[0;32mimport\u001b[0m \u001b[0mfeature\u001b[0m \u001b[0;32mas\u001b[0m \u001b[0mfeature_pb2\u001b[0m\u001b[0;34m\u001b[0m\u001b[0;34m\u001b[0m\u001b[0m\n\u001b[1;32m      5\u001b[0m \u001b[0;32mfrom\u001b[0m \u001b[0mgoogle\u001b[0m\u001b[0;34m.\u001b[0m\u001b[0mcloud\u001b[0m\u001b[0;34m.\u001b[0m\u001b[0maiplatform_v1\u001b[0m\u001b[0;34m.\u001b[0m\u001b[0mtypes\u001b[0m \u001b[0;32mimport\u001b[0m \u001b[0mfeaturestore\u001b[0m \u001b[0;32mas\u001b[0m \u001b[0mfeaturestore_pb2\u001b[0m\u001b[0;34m\u001b[0m\u001b[0;34m\u001b[0m\u001b[0m\n",
      "\u001b[0;31mModuleNotFoundError\u001b[0m: No module named 'google.cloud.aiplatform_v1'"
     ]
    }
   ],
   "source": [
    "#from google.cloud.aiplatform_v1 import (FeaturestoreOnlineServingServiceClient,FeaturestoreServiceClient)\n",
    "from google.cloud.aiplatform_v1.types import FeatureSelector, IdMatcher\n",
    "from google.cloud.aiplatform_v1.types import entity_type as entity_type_pb2\n",
    "from google.cloud.aiplatform_v1.types import feature as feature_pb2\n",
    "from google.cloud.aiplatform_v1.types import featurestore as featurestore_pb2\n",
    "from google.cloud.aiplatform_v1.types import featurestore_online_service as featurestore_online_service_pb2\n",
    "from google.cloud.aiplatform_v1.types import \\\n",
    "    featurestore_service as featurestore_service_pb2\n",
    "from google.cloud.aiplatform_v1.types import io as io_pb2\n",
    "from google.protobuf.duration_pb2 import Duration\n",
    "import datetime"
   ]
  },
  {
   "cell_type": "code",
   "execution_count": 17,
   "id": "f50a8109-d92a-46e7-a19c-829dd774cb57",
   "metadata": {},
   "outputs": [],
   "source": [
    "Project_id=\"vertex-ai-gcp-1\"\n",
    "featurestore_name=\"employee_fs_s6\"\n",
    "Entity_name=\"emp_entity_s6\"\n",
    "location = \"us-central1\"\n",
    "endpoint = \"us-central1-aiplatform.googleapis.com\""
   ]
  },
  {
   "cell_type": "code",
   "execution_count": 7,
   "id": "86c0abf1-67eb-49a5-afaf-eb3737761db2",
   "metadata": {},
   "outputs": [
    {
     "name": "stdout",
     "output_type": "stream",
     "text": [
      "projects/vertex-ai-gcp-1/locations/us-central1\n",
      "<google.cloud.aiplatform_v1.services.featurestore_service.client.FeaturestoreServiceClient object at 0x7f7124251690>\n",
      "<google.cloud.aiplatform_v1.services.featurestore_online_serving_service.client.FeaturestoreOnlineServingServiceClient object at 0x7f71262bcb10>\n"
     ]
    }
   ],
   "source": [
    "import google.cloud.aiplatform_v1\n",
    "client_admin = google.cloud.aiplatform_v1.FeaturestoreServiceClient(client_options={\"api_endpoint\": endpoint})\n",
    "client_data = google.cloud.aiplatform_v1.FeaturestoreOnlineServingServiceClient(client_options={\"api_endpoint\": endpoint}) \n",
    "fs_resource_path = client_admin.common_location_path(Project_id, location)\n",
    "print(fs_resource_path)\n",
    "print(client_admin)\n",
    "print(client_data)"
   ]
  },
  {
   "cell_type": "code",
   "execution_count": 18,
   "id": "0d75c219-0256-478c-a2af-71d77fd16374",
   "metadata": {},
   "outputs": [
    {
     "name": "stdout",
     "output_type": "stream",
     "text": [
      "name: \"projects/953811166431/locations/us-central1/featurestores/employee_fs_s6\"\n",
      "\n"
     ]
    },
    {
     "data": {
      "text/plain": [
       "name: \"projects/953811166431/locations/us-central1/featurestores/employee_fs_s6\"\n",
       "create_time {\n",
       "  seconds: 1671996104\n",
       "  nanos: 507089000\n",
       "}\n",
       "update_time {\n",
       "  seconds: 1671996104\n",
       "  nanos: 951866000\n",
       "}\n",
       "etag: \"AMEw9yPQmaXnMhci9bO0lbkvKrchDfvuV-vyMRwhi17zefPkRTB6lNYl_KL2f9CBV9mh\"\n",
       "online_serving_config {\n",
       "  fixed_node_count: 1\n",
       "}\n",
       "state: STABLE"
      ]
     },
     "execution_count": 18,
     "metadata": {},
     "output_type": "execute_result"
    }
   ],
   "source": [
    "#Creation of feature store\n",
    "from google.cloud.aiplatform_v1.types import featurestore_service as fs_s\n",
    "from google.cloud.aiplatform_v1.types import featurestore as fs\n",
    "from google.cloud.aiplatform_v1.types import feature\n",
    "create_fs = client_admin.create_featurestore(\n",
    "    fs_s.CreateFeaturestoreRequest(\n",
    "        parent=fs_resource_path,\n",
    "        featurestore_id=featurestore_name,\n",
    "        featurestore=fs.Featurestore(\n",
    "            online_serving_config=fs.Featurestore.OnlineServingConfig(\n",
    "                fixed_node_count=1\n",
    "            ),\n",
    "        ),\n",
    "    )\n",
    ")\n",
    "print(create_fs.result())\n",
    "client_admin.get_featurestore(name=client_admin.featurestore_path(Project_id, location, featurestore_name))"
   ]
  },
  {
   "cell_type": "code",
   "execution_count": 20,
   "id": "dfc8f211-da89-4392-91dd-b747cf3ac141",
   "metadata": {},
   "outputs": [
    {
     "name": "stdout",
     "output_type": "stream",
     "text": [
      "name: \"projects/953811166431/locations/us-central1/featurestores/employee_fs_s6/entityTypes/emp_entity_s6\"\n",
      "\n"
     ]
    }
   ],
   "source": [
    "from google.cloud.aiplatform_v1.types import entity_type\n",
    "entity_creation = client_admin.create_entity_type(\n",
    "    fs_s.CreateEntityTypeRequest(\n",
    "        parent=client_admin.featurestore_path(Project_id, location, featurestore_name),\n",
    "        entity_type_id=Entity_name,\n",
    "        entity_type=entity_type.EntityType(\n",
    "            description=\"employee entity\",\n",
    "        ),\n",
    "    )\n",
    ")\n",
    "\n",
    "# Similarly, wait for EntityType creation operation.\n",
    "print(entity_creation.result())"
   ]
  },
  {
   "cell_type": "code",
   "execution_count": 22,
   "id": "f72df32d-4b1c-4d5e-91f6-6b65411a07f3",
   "metadata": {},
   "outputs": [
    {
     "data": {
      "text/plain": [
       "features {\n",
       "  name: \"projects/953811166431/locations/us-central1/featurestores/employee_fs_s6/entityTypes/emp_entity_s6/features/employee_id\"\n",
       "}\n",
       "features {\n",
       "  name: \"projects/953811166431/locations/us-central1/featurestores/employee_fs_s6/entityTypes/emp_entity_s6/features/education\"\n",
       "}\n",
       "features {\n",
       "  name: \"projects/953811166431/locations/us-central1/featurestores/employee_fs_s6/entityTypes/emp_entity_s6/features/gender\"\n",
       "}\n",
       "features {\n",
       "  name: \"projects/953811166431/locations/us-central1/featurestores/employee_fs_s6/entityTypes/emp_entity_s6/features/no_of_trainings\"\n",
       "}\n",
       "features {\n",
       "  name: \"projects/953811166431/locations/us-central1/featurestores/employee_fs_s6/entityTypes/emp_entity_s6/features/age\"\n",
       "}"
      ]
     },
     "execution_count": 22,
     "metadata": {},
     "output_type": "execute_result"
    }
   ],
   "source": [
    "client_admin.batch_create_features(\n",
    "    parent=client_admin.entity_type_path(Project_id, location, featurestore_name, Entity_name),\n",
    "    requests=[\n",
    "        fs_s.CreateFeatureRequest(\n",
    "            feature=feature.Feature(\n",
    "                value_type=feature.Feature.ValueType.INT64,\n",
    "                description=\"employee id\",\n",
    "            ),\n",
    "            feature_id=\"employee_id\",\n",
    "        ),\n",
    "        fs_s.CreateFeatureRequest(\n",
    "            feature=feature.Feature(\n",
    "                value_type=feature.Feature.ValueType.STRING,\n",
    "                description=\"education\",\n",
    "            ),\n",
    "            feature_id=\"education\",\n",
    "        ),\n",
    "        fs_s.CreateFeatureRequest(\n",
    "            feature=feature.Feature(\n",
    "                value_type=feature.Feature.ValueType.STRING,\n",
    "                description=\"gender\",\n",
    "            ),\n",
    "            feature_id=\"gender\",\n",
    "        ),\n",
    "        fs_s.CreateFeatureRequest(\n",
    "            feature=feature.Feature(\n",
    "                value_type=feature.Feature.ValueType.INT64,\n",
    "                description=\"no_of_trainings\",\n",
    "            ),\n",
    "            feature_id=\"no_of_trainings\",\n",
    "        ),\n",
    "        fs_s.CreateFeatureRequest(\n",
    "            feature=feature.Feature(\n",
    "                value_type=feature.Feature.ValueType.INT64,\n",
    "                description=\"age\",\n",
    "            ),\n",
    "            feature_id=\"age\",\n",
    "        ),\n",
    "    ],\n",
    ").result()"
   ]
  },
  {
   "cell_type": "code",
   "execution_count": 52,
   "id": "b16b1add-f2e3-43ee-a232-c3f912fe00cb",
   "metadata": {},
   "outputs": [],
   "source": [
    "from google.cloud.aiplatform_v1.types.featurestore_service import ImportFeatureValuesRequest"
   ]
  },
  {
   "cell_type": "code",
   "execution_count": 25,
   "id": "97df9ac5-90f7-4b64-a26b-e7bbd8f2933f",
   "metadata": {},
   "outputs": [],
   "source": [
    "from google.cloud.aiplatform_v1.types import io\n",
    "from google.protobuf.timestamp_pb2 import Timestamp\n",
    "from google.cloud.aiplatform_v1.types.featurestore_service import ImportFeatureValuesRequest\n",
    "import datetime\n",
    "t = datetime.datetime.now().timestamp()\n",
    "seconds = int(t)\n",
    "#nanos = int(t % 1 * 1e9)\n",
    "timestamp_input = Timestamp(seconds=seconds)\n",
    "ingest_data_csv = fs_s.ImportFeatureValuesRequest(\n",
    "    entity_type=client_admin.entity_type_path(\n",
    "        Project_id, location, featurestore_name, Entity_name\n",
    "    ),\n",
    "    csv_source=io.CsvSource(\n",
    "        # Source\n",
    "        gcs_source=io.GcsSource(\n",
    "            uris=[\n",
    "                \"gs://feature_store_input/employee_promotion_data_fs.csv\"\n",
    "            ]\n",
    "        )\n",
    "    ),\n",
    "    entity_id_field=\"employee_id\",\n",
    "    feature_specs=[\n",
    "        # Features\n",
    "        ImportFeatureValuesRequest.FeatureSpec(id=\"employee_id\"),\n",
    "        ImportFeatureValuesRequest.FeatureSpec(id=\"education\"),\n",
    "        ImportFeatureValuesRequest.FeatureSpec(id=\"gender\"),\n",
    "        ImportFeatureValuesRequest.FeatureSpec(id=\"no_of_trainings\"),\n",
    "        ImportFeatureValuesRequest.FeatureSpec(id=\"age\"),\n",
    "    ],\n",
    "    #feature_time_field=column_name containing the timestamp information in csv or in big query.\n",
    "    feature_time=timestamp_input, #time stamp needs to be in google.protobuf.Timestamp\n",
    "    worker_count=1,\n",
    ")"
   ]
  },
  {
   "cell_type": "code",
   "execution_count": 26,
   "id": "990d495b-db02-463f-a07d-0268379d7b47",
   "metadata": {},
   "outputs": [
    {
     "data": {
      "text/plain": [
       "imported_entity_count: 49\n",
       "imported_feature_value_count: 241"
      ]
     },
     "execution_count": 26,
     "metadata": {},
     "output_type": "execute_result"
    }
   ],
   "source": [
    "ingest_data = client_admin.import_feature_values(ingest_data_csv)\n",
    "ingest_data.result()"
   ]
  },
  {
   "cell_type": "code",
   "execution_count": 58,
   "id": "8c00bc1b-d14c-403a-8d14-925f71d59425",
   "metadata": {},
   "outputs": [
    {
     "name": "stdout",
     "output_type": "stream",
     "text": [
      "<google.api_core.grpc_helpers._StreamingResponseIterator object at 0x7f712415d110>\n"
     ]
    },
    {
     "data": {
      "text/plain": [
       "google.api_core.grpc_helpers._StreamingResponseIterator"
      ]
     },
     "execution_count": 58,
     "metadata": {},
     "output_type": "execute_result"
    }
   ],
   "source": [
    "#The output is an iterator\n",
    "from google.cloud.aiplatform_v1.types import FeatureSelector, IdMatcher\n",
    "from google.cloud.aiplatform_v1.types import featurestore_online_service \n",
    "resp_data = client_data.streaming_read_feature_values(\n",
    "    featurestore_online_service.StreamingReadFeatureValuesRequest(\n",
    "        entity_type=client_admin.entity_type_path(\n",
    "            Project_id, location, featurestore_name, Entity_name\n",
    "        ),\n",
    "        entity_ids=[\"65438\"],\n",
    "        feature_selector=FeatureSelector(id_matcher=IdMatcher(ids=[\"employee_id\",\"education\",\"gender\",\"no_of_trainings\",\"age\"])),\n",
    "    )\n",
    ")\n",
    "print(resp_data)\n",
    "type(resp_data)"
   ]
  },
  {
   "cell_type": "code",
   "execution_count": 31,
   "id": "b8450a19-bb3c-4fb2-90de-c33482bb7991",
   "metadata": {},
   "outputs": [
    {
     "name": "stdout",
     "output_type": "stream",
     "text": [
      "header {\n",
      "  entity_type: \"projects/953811166431/locations/us-central1/featurestores/employee_fs_s6/entityTypes/emp_entity_s6\"\n",
      "  feature_descriptors {\n",
      "    id: \"employee_id\"\n",
      "  }\n",
      "  feature_descriptors {\n",
      "    id: \"education\"\n",
      "  }\n",
      "  feature_descriptors {\n",
      "    id: \"gender\"\n",
      "  }\n",
      "  feature_descriptors {\n",
      "    id: \"no_of_trainings\"\n",
      "  }\n",
      "  feature_descriptors {\n",
      "    id: \"age\"\n",
      "  }\n",
      "}\n",
      "\n",
      "entity_view {\n",
      "  entity_id: \"65438\"\n",
      "  data {\n",
      "    value {\n",
      "      int64_value: 65438\n",
      "      metadata {\n",
      "        generate_time {\n",
      "          seconds: 1671996186\n",
      "        }\n",
      "      }\n",
      "    }\n",
      "  }\n",
      "  data {\n",
      "    value {\n",
      "      string_value: \"Master\\'s & above\"\n",
      "      metadata {\n",
      "        generate_time {\n",
      "          seconds: 1671996186\n",
      "        }\n",
      "      }\n",
      "    }\n",
      "  }\n",
      "  data {\n",
      "    value {\n",
      "      string_value: \"f\"\n",
      "      metadata {\n",
      "        generate_time {\n",
      "          seconds: 1671996186\n",
      "        }\n",
      "      }\n",
      "    }\n",
      "  }\n",
      "  data {\n",
      "    value {\n",
      "      int64_value: 1\n",
      "      metadata {\n",
      "        generate_time {\n",
      "          seconds: 1671996186\n",
      "        }\n",
      "      }\n",
      "    }\n",
      "  }\n",
      "  data {\n",
      "    value {\n",
      "      int64_value: 35\n",
      "      metadata {\n",
      "        generate_time {\n",
      "          seconds: 1671996186\n",
      "        }\n",
      "      }\n",
      "    }\n",
      "  }\n",
      "}\n",
      "\n"
     ]
    }
   ],
   "source": [
    "for resp in resp_data:\n",
    "    print(resp)"
   ]
  },
  {
   "cell_type": "code",
   "execution_count": 59,
   "id": "38a158e3-0287-4940-ba60-fd91a4dfa182",
   "metadata": {},
   "outputs": [
    {
     "name": "stdout",
     "output_type": "stream",
     "text": [
      "Feature Names ['employee_id', 'education', 'gender', 'no_of_trainings', 'age']\n",
      "Feature Values [65438, \"Master's & above\", 'f', 1, 35]\n"
     ]
    }
   ],
   "source": [
    "names_col=[]\n",
    "for resp in resp_data:\n",
    "    if resp.header.feature_descriptors != \"\":\n",
    "        for head in resp.header.feature_descriptors:\n",
    "            names_col.append(head.id)\n",
    "    try:\n",
    "        values=[]\n",
    "        for items in resp.entity_view.data:\n",
    "            if items.value.string_value !=\"\":values.append(items.value.string_value)\n",
    "            elif items.value.int64_value !=\"\":values.append(items.value.int64_value)\n",
    "    except:pass\n",
    "print(\"Feature Names\",names_col)\n",
    "print(\"Feature Values\",values)"
   ]
  },
  {
   "cell_type": "code",
   "execution_count": 16,
   "id": "1296a99c-337b-416b-bcf3-b65d7e0c3811",
   "metadata": {},
   "outputs": [
    {
     "name": "stdout",
     "output_type": "stream",
     "text": [
      "Deleted featurestore 'employee_fs_s5'.\n"
     ]
    }
   ],
   "source": [
    "featurestore_name\n",
    "client_admin.delete_featurestore(\n",
    "    request=fs_s.DeleteFeaturestoreRequest(\n",
    "        name=client_admin.featurestore_path(Project_id, location, featurestore_name),\n",
    "        force=True,\n",
    "    )\n",
    ").result()\n",
    "#client.delete_dataset(DESTINATION_DATA_SET, delete_contents=True, not_found_ok=True)  # Make an API request.\n",
    "\n",
    "print(\"Deleted featurestore '{}'.\".format(featurestore_name))"
   ]
  },
  {
   "cell_type": "code",
   "execution_count": null,
   "id": "153fd47c-8cc3-4f1b-9013-6e171f0c6d64",
   "metadata": {},
   "outputs": [],
   "source": []
  }
 ],
 "metadata": {
  "environment": {
   "kernel": "python3",
   "name": "common-cpu.m102",
   "type": "gcloud",
   "uri": "gcr.io/deeplearning-platform-release/base-cpu:m102"
  },
  "kernelspec": {
   "display_name": "Python 3",
   "language": "python",
   "name": "python3"
  },
  "language_info": {
   "codemirror_mode": {
    "name": "ipython",
    "version": 3
   },
   "file_extension": ".py",
   "mimetype": "text/x-python",
   "name": "python",
   "nbconvert_exporter": "python",
   "pygments_lexer": "ipython3",
   "version": "3.7.12"
  }
 },
 "nbformat": 4,
 "nbformat_minor": 5
}
